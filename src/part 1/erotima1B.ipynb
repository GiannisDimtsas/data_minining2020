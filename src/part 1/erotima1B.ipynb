{
 "cells": [
  {
   "cell_type": "code",
   "execution_count": 3,
   "metadata": {},
   "outputs": [
    {
     "name": "stdin",
     "output_type": "stream",
     "text": [
      "Choose method:\n",
      "1. Delete column\n",
      "2. Fill with the average data value of the column\n",
      "3. Use Logistic Regression\n",
      "4. Use K-Means to fill missing values 4\n"
     ]
    },
    {
     "name": "stdout",
     "output_type": "stream",
     "text": [
      "Precision Score :  0.45062207907035495\n",
      "Recall Score :  0.4666666666666667\n",
      "f1_Score :  0.4832100330264944\n"
     ]
    },
    {
     "name": "stderr",
     "output_type": "stream",
     "text": [
      "C:\\Users\\Dimtsas\\anaconda3\\lib\\site-packages\\sklearn\\metrics\\_classification.py:1272: UndefinedMetricWarning: Precision is ill-defined and being set to 0.0 in labels with no predicted samples. Use `zero_division` parameter to control this behavior.\n",
      "  _warn_prf(average, modifier, msg_start, len(result))\n"
     ]
    }
   ],
   "source": [
    "import pandas as pd\n",
    "import numpy as np\n",
    "from sklearn.model_selection import train_test_split\n",
    "from sklearn.svm import SVC\n",
    "from sklearn.metrics import f1_score, precision_score, recall_score, multilabel_confusion_matrix,precision_recall_fscore_support,classification_report\n",
    "from sklearn.linear_model import LogisticRegression\n",
    "from sklearn.cluster import KMeans\n",
    "from sklearn.impute import KNNImputer\n",
    "\n",
    "def data_preprocess(data):\n",
    "    x = data.drop(['quality'], axis=1) #data without quality column\n",
    "    y = data['quality']                #quality column\n",
    "    #split data\n",
    "    x_train, x_test, y_train, y_test = train_test_split(x, y, test_size = 0.15) #0.15 works better than 0.25\n",
    "    return x_train, x_test, y_train, y_test\n",
    "\n",
    "#creation of the classifier\n",
    "def classifier_creation(data):\n",
    "    x_train, x_test, y_train, y_test=data_preprocess(data)\n",
    "    clf = SVC(kernel = 'rbf', decision_function_shape='ovo') #creation of SVM, rbf is faster but less accurate than 'linear'\n",
    "    clf.fit(x_train,y_train)\n",
    "    prediction = clf.predict(x_test)\n",
    "    return x_train, x_test, y_train, y_test, prediction\n",
    "\n",
    "#metrics for f1_score, precission score and recall score\n",
    "def metrics(data):\n",
    "    x_train, x_test, y_train, y_test, prediction = classifier_creation(data)\n",
    "    f1 = f1_score(y_test, prediction,average='weighted', labels=np.unique(prediction))\n",
    "    precision = precision_score(y_test, prediction,average='weighted')\n",
    "    recall = recall_score(y_test, prediction,average='weighted')\n",
    "    print(\"Precision Score : \",precision)\n",
    "    print(\"Recall Score : \",recall)\n",
    "    print(\"f1_Score : \",f1)\n",
    " \n",
    "#removing 33% of pH values\n",
    "def ph_remove(data):\n",
    "    phNewValues = data['pH'].values\n",
    "    rowsToBeNan = np.random.randint(0,1599,528)\n",
    "    for i in rowsToBeNan:\n",
    "        phNewValues[i]=np.nan\n",
    "    data.update(phNewValues)\n",
    "    return data\n",
    "\n",
    "#choosing a method to handle the missing values\n",
    "def choose_method(method_choice,data):\n",
    "    if method_choice=='1': #First method, delete pH column\n",
    "        data=data.drop('pH',axis=1) #deletes pH column\n",
    "        metrics(data)\n",
    "        return data\n",
    "        \n",
    "    if method_choice=='2': #Second method, replace all NaN values with average value of pH\n",
    "        average_ph_value = data['pH'].mean() #keeps the mean of pH column\n",
    "        data['pH'].values[np.isnan(data['pH'].values)]= average_ph_value #replace NaN values with mean\n",
    "        metrics(data)\n",
    "        return data\n",
    "        \n",
    "    if method_choice=='3': #Third method, use Logistic Regression\n",
    "        #prepei na ftiaxtei to x_test y_test\n",
    "        'TODO'\n",
    "        LogReg = LogisticRegression()\n",
    "        LogReg.fit(x_test,y_test)\n",
    "        predict = LogReg.predict(x_train)\n",
    "        data['pH'].values[np.isnan(data['pH'].values)]= predict\n",
    "        metrics(data)\n",
    "        return data\n",
    "        \n",
    "    if method_choice=='4': #Fourth method, use K-Means \n",
    "        data = pd.read_csv('winequality-red.csv')\n",
    "        columns = data.columns #saves the names of the columns to use it later\n",
    "        kmeans=KMeans(n_clusters=4).fit(data) #kmeans model\n",
    "\n",
    "        raw_data = ph_remove(data) #removes the 33% of ph values\n",
    "        is_nan_values = np.isnan(raw_data) #keeps NaN values\n",
    "        data_mean = np.nanmean(raw_data) #keeps the mean of values, ignoring NaN\n",
    "        cleared_data = np.where(is_nan_values, data_mean, raw_data) #replace NaN values with mean\n",
    "\n",
    "        #set new labels and centroids according to new data\n",
    "        labels = kmeans.fit_predict(cleared_data)\n",
    "        centroids = kmeans.cluster_centers_\n",
    "        cleared_data[is_nan_values] = centroids[labels][is_nan_values]\n",
    "\n",
    "        cleared_data = pd.DataFrame(cleared_data, columns = columns)            \n",
    "        metrics(cleared_data)\n",
    "        return cleared_data\n",
    "        \n",
    "def main():\n",
    "    data = pd.read_csv('winequality-red.csv')\n",
    "    data = ph_remove(data)\n",
    "    method_choice= input('Choose method:\\n1. Delete column\\n2. Fill with the average data value of the column\\n3. Use Logistic Regression\\n4. Use K-Means to fill missing values')\n",
    "    data = choose_method(method_choice,data)\n",
    "    \n",
    "if __name__ == \"__main__\":\n",
    "    main()"
   ]
  },
  {
   "cell_type": "code",
   "execution_count": null,
   "metadata": {},
   "outputs": [],
   "source": []
  },
  {
   "cell_type": "code",
   "execution_count": null,
   "metadata": {},
   "outputs": [],
   "source": []
  }
 ],
 "metadata": {
  "kernelspec": {
   "display_name": "Python 3",
   "language": "python",
   "name": "python3"
  },
  "language_info": {
   "codemirror_mode": {
    "name": "ipython",
    "version": 3
   },
   "file_extension": ".py",
   "mimetype": "text/x-python",
   "name": "python",
   "nbconvert_exporter": "python",
   "pygments_lexer": "ipython3",
   "version": "3.7.6"
  }
 },
 "nbformat": 4,
 "nbformat_minor": 4
}

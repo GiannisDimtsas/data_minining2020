{
 "cells": [
  {
   "cell_type": "code",
   "execution_count": 2,
   "metadata": {},
   "outputs": [
    {
     "name": "stdout",
     "output_type": "stream",
     "text": [
      "Precision Score :  0.4663944128787879\n",
      "Recall Score :  0.5125\n",
      "f1 Score :  0.5435932278403325\n"
     ]
    },
    {
     "name": "stderr",
     "output_type": "stream",
     "text": [
      "C:\\Users\\Dimtsas\\anaconda3\\lib\\site-packages\\sklearn\\metrics\\_classification.py:1272: UndefinedMetricWarning: Precision is ill-defined and being set to 0.0 in labels with no predicted samples. Use `zero_division` parameter to control this behavior.\n",
      "  _warn_prf(average, modifier, msg_start, len(result))\n"
     ]
    }
   ],
   "source": [
    "import pandas as pd\n",
    "import numpy as np\n",
    "from sklearn.model_selection import train_test_split\n",
    "from sklearn.svm import SVC\n",
    "from sklearn.metrics import f1_score, precision_score, recall_score, multilabel_confusion_matrix,precision_recall_fscore_support,classification_report\n",
    "\n",
    "def data_preprocess(data):\n",
    "    x = data.drop(['quality'], axis=1) #data without quality column\n",
    "    y = data['quality']                #quality column\n",
    "    #split data\n",
    "    x_train, x_test, y_train, y_test = train_test_split(x, y, test_size = 0.15)\n",
    "    return x_train, x_test, y_train, y_test\n",
    "\n",
    "#creation of the classifier\n",
    "def classifier_creation(data):\n",
    "    x_train, x_test, y_train, y_test=data_preprocess(data)\n",
    "    clf = SVC(kernel = 'rbf', decision_function_shape='ovo')\n",
    "    clf.fit(x_train,y_train)\n",
    "    prediction = clf.predict(x_test)\n",
    "    return x_train, x_test, y_train, y_test, prediction\n",
    "\n",
    "#metrics for f1_score, precission score and recall score\n",
    "def metrics(data):\n",
    "    x_train, x_test, y_train, y_test, prediction = classifier_creation(data)\n",
    "    f1= f1_score(y_test, prediction,average='weighted', labels=np.unique(prediction))\n",
    "    precision = precision_score(y_test, prediction,average='weighted')\n",
    "    recall = recall_score(y_test, prediction,average='weighted')\n",
    "    print(\"Precision Score : \",precision)\n",
    "    print(\"Recall Score : \",recall)\n",
    "    print(\"f1 Score : \",f1)\n",
    "\n",
    "def main():\n",
    "    data = pd.read_csv('winequality-red.csv')\n",
    "    metrics(data)\n",
    "    \n",
    "if __name__ == \"__main__\":\n",
    "    main()\n",
    "    \n",
    "#Metrics with 'rbf': f1=0.59, precision=0.50, recall=0.54\n",
    "#Metrics with 'linear': f1=0.63, precision=0.50, recall=0.58"
   ]
  },
  {
   "cell_type": "code",
   "execution_count": null,
   "metadata": {},
   "outputs": [],
   "source": []
  },
  {
   "cell_type": "code",
   "execution_count": null,
   "metadata": {},
   "outputs": [],
   "source": []
  },
  {
   "cell_type": "code",
   "execution_count": null,
   "metadata": {},
   "outputs": [],
   "source": []
  }
 ],
 "metadata": {
  "kernelspec": {
   "display_name": "Python 3",
   "language": "python",
   "name": "python3"
  },
  "language_info": {
   "codemirror_mode": {
    "name": "ipython",
    "version": 3
   },
   "file_extension": ".py",
   "mimetype": "text/x-python",
   "name": "python",
   "nbconvert_exporter": "python",
   "pygments_lexer": "ipython3",
   "version": "3.7.6"
  }
 },
 "nbformat": 4,
 "nbformat_minor": 4
}
